{
 "cells": [
  {
   "cell_type": "markdown",
   "id": "19284599-787c-41c9-b679-2849ec5bbfa6",
   "metadata": {},
   "source": [
    "### Rotate Array by k Positions Problem\n",
    "The Rotate Array by $k$ Positions problem is a common challenge in computer science and programming that involves manipulating an array of elements. The goal is to rotate the array by $k$ positions to the right. This means that if you have an array $[ 1 , 2 , 3 , 4 , 5 ]$ and you rotate it by $2$ positions to the right, the result would be $[ 4 , 5 , 1 , 2 , 3 ]$.\n",
    "\n",
    "This problem is interesting because it requires a creative approach to solve, often involving reversing parts of the array. It's a great exercise for understanding array manipulation and can be applied in various real-world scenarios, such as data processing, algorithm optimization, and even in certain graphical applications where rotating elements is necessary.\n",
    "\n",
    "In this notebook, we will explore a solution to the Rotate Array by $k$ Positions problem. We will implement the solution in Python and analyze its performance."
   ]
  },
  {
   "cell_type": "code",
   "execution_count": null,
   "id": "3acf9b46-2940-444a-ba2e-dd36363caf72",
   "metadata": {},
   "outputs": [],
   "source": [
    "def rotate_array(arr, k):\n",
    "   \n",
    "    # Handle edge cases\n",
    "    if not arr: # If the array is empty\n",
    "        return arr\n",
    "    if k == 0 or k == len(arr): # If rotating by 0 or the array length\n",
    "        return arr\n",
    "    if k > len(arr): # If rotating by more than the array length\n",
    "        k %= len(arr) # Adjust k to be within the array length\n",
    "    \n",
    "    # Step 1: Reverse the entire array\n",
    "    arr.reverse()\n",
    "    \n",
    "    # Step 2: Reverse the first k elements\n",
    "    arr[:k] = arr[:k][::-1]\n",
    "    \n",
    "    # Step 3: Reverse the remaining elements\n",
    "    arr[k:] = arr[k:][::-1]\n",
    "    \n",
    "    return arr\n",
    "\n",
    "# Example usage\n",
    "arr = [1, 2, 3, 4, 5]\n",
    "k = 2\n",
    "print(rotate_array(arr, k)) # Output: [4, 5, 1, 2, 3]"
   ]
  },
  {
   "cell_type": "markdown",
   "id": "595b1984-4852-43cc-8740-739a1a8b2e01",
   "metadata": {},
   "source": [
    "\n",
    "### Complexity\n",
    "\n",
    "- **Time Complexity:** $O(n)$ because we perform three reverse operations, each of which takes $O(n/2)$ time in the worst case (since reversing an array of size $n$ takes $n/2$ operations). However, since we're considering the worst-case scenario, we can simplify this to $O(n)$.\n",
    "- **Space Complexity:** $O(1)$ because we're modifying the array in place and not using any additional data structures. The solution is efficient in terms of space complexity.\n",
    "\n",
    "### Optimality\n",
    "\n",
    "- This approach is **optimal** in terms of time complexity for this problem. It's not possible to achieve a better time complexity because each element must be visited at least once to perform the rotation. The space complexity is also optimal since no additional space is used that scales with the input size.\n",
    "\n",
    "### Correctness \n",
    "\n",
    "- **Correctness of the Algorithm:** It correctly reverses the array and then reverses parts of it to achieve the desired rotation. This approach is mathematically sound and has been proven to work for any array and any rotation number.\n",
    "- **Handling of Edge Cases:** By adding checks for edge cases, the function ensures that it behaves correctly even for extreme inputs. For example, rotating by 0 or the array length should result in the original array, and rotating by a number greater than the array length should effectively rotate by the remainder of the division.\n",
    "\n",
    "### Completeness\n",
    "- The function is **complete** in the sense that it addresses all possible scenarios, including edge cases, and provides a solution for rotating an array by $k$ positions to the right."
   ]
  }
 ],
 "metadata": {
  "kernelspec": {
   "display_name": "Python 3 (ipykernel)",
   "language": "python",
   "name": "python3"
  },
  "language_info": {
   "codemirror_mode": {
    "name": "ipython",
    "version": 3
   },
   "file_extension": ".py",
   "mimetype": "text/x-python",
   "name": "python",
   "nbconvert_exporter": "python",
   "pygments_lexer": "ipython3",
   "version": "3.12.3"
  }
 },
 "nbformat": 4,
 "nbformat_minor": 5
}
