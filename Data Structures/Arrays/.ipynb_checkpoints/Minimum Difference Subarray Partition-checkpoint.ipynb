{
 "cells": [
  {
   "cell_type": "markdown",
   "id": "c2bac969-16aa-40d6-b7f8-cbc05919bd25",
   "metadata": {},
   "source": [
    "### Minimize Partition Difference Problem\n",
    "\n",
    "Given an array $A$ of $n$ integers, where $n$ is the number of elements in the array, we want to partition $A$ into two sub-arrays $A1$ and $A2$ such that the difference between their sums is minimized. \n",
    "\n",
    "- $A1$ as the first sub-array ending at index $i$.\n",
    "- $A2$ as the second sub-array starting at index $i+1$.\n",
    "\n",
    "The sum of $A1$ is represented as $S1 = A[0] + A[1] +... + A[i]$, and the sum of $A2$ is represented as $S2 = A[i+1] + A[i+2] +... + A[n-1]$.\n",
    "\n",
    "The objective is to minimize $|S1 - S2|$, where $|...|$ denotes the absolute value.\n",
    "\n",
    "### Dynamic Programming Approach\n",
    "\n",
    "- Suppose $dp[i][j]$ represent the minimum difference between the sums of the two sub-arrays when the first sub-array ends at index $i$ and the second sub-array starts at index $j$.\n",
    "- The base case is when $i = 0$ and $j = 0$, which means the first sub-array is empty and the second sub-array contains all elements. In this case, $dp[0][0] = 0$.\n",
    "- For each $i$ from $1$ to $n-1$, and for each $j$ from $i$ to $n-1$, we calculate $dp[i][j]$ as:\n",
    "    \n",
    "    $dp[i][j] = min(dp[i][j], abs(S1 - S2))$ Where:\n",
    "    \n",
    "    - $S1$ is the sum of the elements from index $0$ to $i$\n",
    "    - $S2$ is the sum of the elements from index $i+1$ to $j$.\n",
    "- The minimum difference between the sums of the two sub-arrays can be represented as: $min(|S1 - S2|) = min(dp[n-1][n-1])$ Where $dp[n-1][n-1]$ is the minimum value in the last row of the $dp$ array.\n"
   ]
  },
  {
   "cell_type": "code",
   "execution_count": 1,
   "id": "0ce76d23-3927-4922-a294-711c2c8be38b",
   "metadata": {},
   "outputs": [
    {
     "name": "stdout",
     "output_type": "stream",
     "text": [
      "1\n",
      "The history saving thread hit an unexpected error (OperationalError('attempt to write a readonly database')).History will not be written to the database.\n"
     ]
    }
   ],
   "source": [
    "def min_partition_difference(arr):\n",
    "    n = len(arr)\n",
    "    # Initialize the dp array with a large value\n",
    "    dp = [[float('inf')] * n for _ in range(n)]\n",
    "    # Initialize cumulative sum arrays\n",
    "    sum1 = [0] * n\n",
    "    sum2 = [0] * n\n",
    "    \n",
    "    # Calculate cumulative sums\n",
    "    for i in range(n):\n",
    "        sum1[i] = sum1[i-1] + arr[i] if i > 0 else arr[i]\n",
    "        sum2[i] = sum2[i-1] + arr[n-i-1] if i > 0 else arr[n-i-1]\n",
    "    \n",
    "    # Fill the dp array\n",
    "    for i in range(n):\n",
    "        for j in range(i, n):\n",
    "            # Update the dp array\n",
    "            dp[i][j] = min(dp[i][j], abs(sum1[i] - sum2[j]))\n",
    "    \n",
    "    # The minimum difference is the minimum value in the last row of the dp array\n",
    "    return min(dp[-1])\n",
    "\n",
    "# Example usage\n",
    "arr = [3, 1, 4, 2, 2, 1]\n",
    "print(min_partition_difference(arr)) # Output: 1"
   ]
  },
  {
   "cell_type": "markdown",
   "id": "4a901f53-5f8a-4140-8654-ccb97b38a55c",
   "metadata": {},
   "source": [
    "### Complexity\n",
    "\n",
    "- **Time Complexity:** $O(n^2)$ because we have two nested loops iterating over the array.\n",
    "- **Space Complexity:** $O(n^2)$ for the $dp$ array and the cumulative sum arrays $sum1$ and $sum2$.\n",
    "\n",
    "### Optimality\n",
    "\n",
    "The solution is optimal because it explores all possible partitions of the array and calculates the minimum difference between the sums of the two sub-arrays. By using dynamic programming, it avoids recalculating the sums for each pair $(i, j)$ and instead utilizes previously computed values, ensuring that the minimum difference is found efficiently.\n",
    "\n",
    "### Completeness\n",
    "\n",
    "The solution is complete because it considers all possible partitions of the array. For each pair $(i, j)$, it calculates the minimum difference between the sums of the two sub-arrays by considering all possible partitions and updating the $dp$ array accordingly.\n",
    "\n",
    "### Correctness\n",
    "\n",
    "The solution is correct because it calculates the minimum difference between the sums of the two sub-arrays by considering all possible partitions and updating the $dp$ array based on the previously computed values. The use of cumulative sums $sum1$ and $sum2$ ensures that the sums are calculated efficiently, and the $dp$ array is updated correctly to reflect the minimum difference for each pair $(i, j)$."
   ]
  }
 ],
 "metadata": {
  "kernelspec": {
   "display_name": "Python 3 (ipykernel)",
   "language": "python",
   "name": "python3"
  },
  "language_info": {
   "codemirror_mode": {
    "name": "ipython",
    "version": 3
   },
   "file_extension": ".py",
   "mimetype": "text/x-python",
   "name": "python",
   "nbconvert_exporter": "python",
   "pygments_lexer": "ipython3",
   "version": "3.12.3"
  }
 },
 "nbformat": 4,
 "nbformat_minor": 5
}
