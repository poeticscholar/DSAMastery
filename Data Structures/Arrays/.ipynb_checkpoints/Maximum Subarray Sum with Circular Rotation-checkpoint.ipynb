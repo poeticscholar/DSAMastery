{
 "cells": [
  {
   "cell_type": "markdown",
   "id": "7be23198-0232-4344-9185-fabc77fd0493",
   "metadata": {},
   "source": [
    "# Maximum Subarray Sum with Circular Rotation\n",
    "\n",
    "The Maximum Subarray Sum with a Circular Rotation problem involves finding the maximum possible sum of any subarray in a given array, considering that the array can be rotated circularly. This means that the solution must also consider the sum of subarrays that would result from rotating the array.\n",
    "\n",
    "#### Understanding the Problem:\n",
    "\n",
    "**Subarray Sum:** A subarray is a contiguous part of an array. The sum of a subarray is the sum of all the elements in that part. For example, in the array $[1, 2, 3, 4]$, the subarray $[2, 3]$ has a sum of $5$.\n",
    "\n",
    "**Circular Rotation:** Imagine the array as a circular buffer. When we rotate it, the last element moves to the front, and the rest of the elements shift one position to the right. For example, rotating the array $[1, 2, 3, 4]$ once to the right gives us $[4, 1, 2, 3]$.\n"
   ]
  },
  {
   "cell_type": "code",
   "execution_count": null,
   "id": "cbcf0e33-e855-40ec-82d5-8ca3a09a46b4",
   "metadata": {},
   "outputs": [],
   "source": [
    "def max_subarray_sum_circular(nums):\n",
    "    if not nums:\n",
    "        return 0\n",
    "    \n",
    "    total_sum = sum(nums)\n",
    "    min_sum = float('inf') # Initialize the minimum sum to infinity \n",
    "    current_sum = 0\n",
    "    \n",
    "    for num in nums:\n",
    "        # Update the current sum to be the minimum of the current number and the sum of the current number and the previous current sum\n",
    "        current_sum = min(num, current_sum + num)\n",
    "        # Update the minimum sum to be the minimum of the current minimum sum and the current sum        \n",
    "        min_sum = min(min_sum, current_sum)\n",
    "    \n",
    "    # If all numbers are positive, return the total sum\n",
    "    if min_sum > 0:\n",
    "        return total_sum\n",
    "    \n",
    "    return max(total_sum - min_sum, max(nums))\n",
    "\n",
    "# Example usage\n",
    "nums = [1, -2, 3, 10]\n",
    "print(max_subarray_sum_circular(nums)) # Output: 14"
   ]
  },
  {
   "cell_type": "markdown",
   "id": "8ec5e392-9aa1-4aeb-909c-15aaf947b5a8",
   "metadata": {},
   "source": [
    "\n",
    "### Complexity\n",
    "\n",
    "- **Time Complexity:** $O(n)$ due to performing a single pass through the array to calculate the total sum and find the minimum subarray sum.\n",
    "- **Space Complexity:** $O(1)$ because the solution uses a constant amount of space to store variables like `total_sum`, `min_sum`, and `current_sum`, making the space complexity constant.\n",
    "\n",
    "### Optimality and Completeness\n",
    "\n",
    "The algorithm is optimal in the sense that it finds the correct maximum subarray sum with circular rotation in linear time, without unnecessary computations. It is complete because it considers all elements in the array and handles edge cases, such as when all numbers are positive. It ensures that the solution applies to a wide range of inputs.\n",
    "\n",
    "### Correctness\n",
    "\n",
    "The solution is correct because it accurately calculates the total sum, finds the minimum subarray sum, and then subtracts the minimum subarray sum from the total sum to maximize the sum in a circular rotation. This approach ensures that the solution correctly identifies the maximum possible sum."
   ]
  }
 ],
 "metadata": {
  "kernelspec": {
   "display_name": "Python 3 (ipykernel)",
   "language": "python",
   "name": "python3"
  },
  "language_info": {
   "codemirror_mode": {
    "name": "ipython",
    "version": 3
   },
   "file_extension": ".py",
   "mimetype": "text/x-python",
   "name": "python",
   "nbconvert_exporter": "python",
   "pygments_lexer": "ipython3",
   "version": "3.12.3"
  }
 },
 "nbformat": 4,
 "nbformat_minor": 5
}
