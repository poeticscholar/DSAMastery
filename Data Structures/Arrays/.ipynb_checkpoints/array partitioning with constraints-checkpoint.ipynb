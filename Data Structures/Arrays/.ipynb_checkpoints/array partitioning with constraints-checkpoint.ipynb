{
 "cells": [
  {
   "cell_type": "markdown",
   "id": "adbfbaed-f413-4ead-a4aa-9e53c6806ffa",
   "metadata": {},
   "source": [
    "### Minimum Partition Difference with Target Sum Problem\n",
    "\n",
    "In the realm of array manipulation and optimization, a common challenge is to partition an array into two sub-arrays such that the difference between their sums is minimized, with specific constraints applied. This problem is particularly interesting when a target sum is introduced, aiming to balance the sums of the two sub-arrays as closely as possible to this target. The constraints ensure that each sub-array contains at least one element, and one of the sub-arrays should strive to have a sum as close to the target sum as possible.\n",
    "\n",
    "### Approach and Solution\n",
    "\n",
    "To tackle this problem, we employ a straightforward yet effective approach that leverages the properties of array sums and the constraints provided. The solution involves iterating through the array, calculating the total sum, and dynamically adjusting the sums of the two sub-arrays to minimize the difference while adhering to the constraints.\n"
   ]
  },
  {
   "cell_type": "code",
   "execution_count": null,
   "id": "f5c57fa1-25b4-4a37-9085-5354d6e708ab",
   "metadata": {},
   "outputs": [],
   "source": [
    "def min_partition_difference_with_target(arr, target_sum):\n",
    "    # Calculate the total sum of the array\n",
    "    total_sum = sum(arr)\n",
    "    \n",
    "    # Initialize the minimum difference to infinity\n",
    "    min_diff = float('inf')\n",
    "    \n",
    "    # Initialize the current sum of the first sub-array\n",
    "    current_sum = 0\n",
    "\n",
    "    # Iterate through the array\n",
    "    for i in range(len(arr)):\n",
    "        # Add the current element to the current sum\n",
    "        current_sum += arr[i]\n",
    "        \n",
    "        # Calculate the sum of the second sub-array\n",
    "        second_sum = total_sum - current_sum\n",
    "\n",
    "        # Adjust the second sum to aim for the target sum\n",
    "        # If the second sum is less than the target sum, add the difference to it\n",
    "        # Otherwise, keep the second sum as is\n",
    "        adjusted_second_sum = second_sum + (target_sum - second_sum) if second_sum < target_sum else second_sum\n",
    "\n",
    "        # Check if the second sub-array has at least one element\n",
    "        # If it does, calculate the difference between the sums of the two sub-arrays\n",
    "        # and update the minimum difference if the current difference is smaller\n",
    "        if adjusted_second_sum > 0:\n",
    "            diff = abs(current_sum - adjusted_second_sum)\n",
    "            min_diff = min(min_diff, diff)\n",
    "\n",
    "    # Return the minimum difference found\n",
    "    return min_diff\n",
    "\n",
    "# Example usage\n",
    "arr = [1, 5, 11, 5]\n",
    "target_sum = 10\n",
    "print(min_partition_difference_with_target(arr, target_sum)) # Output 7\n"
   ]
  },
  {
   "cell_type": "markdown",
   "id": "030d28d7-37df-4a47-9a80-6dfa7093941b",
   "metadata": {},
   "source": [
    "\n",
    "### Complexity\n",
    "\n",
    "- **Time complexity**: $O(n)$, as we iterate through the array once, performing a constant amount of work for each element.\n",
    "- **Space complexity**: $O(1)$, as the space usage does not scale with the input size.\n",
    "\n",
    "### Optimality: \n",
    "\n",
    "- The algorithm is **optimal** because it explores all possible partitions of the array and calculates the difference for each partition. It ensures that the minimum difference is found by comparing the current difference with the minimum difference found so far.\n",
    "\n",
    "\n",
    "### Completeness, and Correctness:\n",
    "- The algorithm is **complete** because it will eventually find the minimum difference if one exists. It iterates through all possible partitions, ensuring that every possible combination of elements in the two sub-arrays is considered.\n",
    "- The algorithm is **correct** because it correctly calculates the minimum difference between the sums of two sub-arrays, adhering to the given constraints. It ensures that each sub-array contains at least one element and that the difference between the sums of the two sub-arrays is minimized, with one of the sub-arrays aiming to have a sum as close to the target sum as possible."
   ]
  },
  {
   "cell_type": "code",
   "execution_count": null,
   "id": "f9088e60-e356-4bc7-97c1-53378de35995",
   "metadata": {},
   "outputs": [],
   "source": []
  }
 ],
 "metadata": {
  "kernelspec": {
   "display_name": "Python 3 (ipykernel)",
   "language": "python",
   "name": "python3"
  },
  "language_info": {
   "codemirror_mode": {
    "name": "ipython",
    "version": 3
   },
   "file_extension": ".py",
   "mimetype": "text/x-python",
   "name": "python",
   "nbconvert_exporter": "python",
   "pygments_lexer": "ipython3",
   "version": "3.12.3"
  }
 },
 "nbformat": 4,
 "nbformat_minor": 5
}
