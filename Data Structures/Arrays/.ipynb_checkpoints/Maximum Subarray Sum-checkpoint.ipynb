{
 "cells": [
  {
   "cell_type": "markdown",
   "id": "89ef38d2-30b0-4524-b6de-cc7a29e5d597",
   "metadata": {},
   "source": [
    "### Maximum Subarray Sum Problem\n",
    "\n",
    "The goal is to find the contiguous subarray (a sequence of numbers that are next to each other in the list) that has the largest sum. This problem is a classic in computer science and can be efficiently solved using **Kadane's algorithm**.\n",
    "\n",
    "### Kadane's Algorithm\n",
    "\n",
    "Kadane's algorithm is a dynamic programming approach that iterates through the array, maintaining a running sum of the subarray. It resets the running sum to zero whenever it becomes negative, effectively starting a new subarray. This ensures that the algorithm always considers the maximum sum ending at each position in the array."
   ]
  },
  {
   "cell_type": "code",
   "execution_count": null,
   "id": "615cc2a6-5c61-41f4-b1f6-eeaf73b2898b",
   "metadata": {},
   "outputs": [],
   "source": [
    "def max_subarray_sum(arr):\n",
    "    \n",
    "    # Initialize variables\n",
    "    max_sum = float('-inf') \n",
    "    current_sum = 0\n",
    "\n",
    "    # Iterate through the entire array\n",
    "    for num in arr:\n",
    "        current_sum += num \n",
    "        if current_sum > max_sum:\n",
    "            max_sum = current_sum\n",
    "        if current_sum < 0: \n",
    "            current_sum = 0 \n",
    "\n",
    "    # Return the maximum sum found\n",
    "    return max_sum \n",
    "\n",
    "# Example usage:\n",
    "arr = [-2, 1, -3, 4, -1, 2, 1, -5, 4]\n",
    "print(max_subarray_sum(arr)) # Output: 6"
   ]
  },
  {
   "cell_type": "markdown",
   "id": "8674eae7-ba86-49f9-b42b-1a66c273a117",
   "metadata": {},
   "source": [
    "### Complexity:\n",
    "\n",
    "- **Time Complexity:** The algorithm has a time complexity of $O(n)$, where $n$ is the number of elements in the array. This is because it performs a single pass through the array.\n",
    "- **Space Complexity:** The space complexity is $O(1)$, as it uses a constant amount of space to store the variables `max_sum` and `current_sum`.\n",
    "\n",
    "### Optimality and Correctness\n",
    "\n",
    "- **Optimality:** Kadane's algorithm is optimal for this problem because it finds the maximum subarray sum in a single pass through the array, without needing to consider all possible subarrays.\n",
    "- **Correctness:** The algorithm is correct because it correctly identifies the subarray with the maximum sum by maintaining a running sum and resetting it when necessary. It ensures that the maximum sum found is indeed the sum of a contiguous subarray.\n",
    "\n",
    "### Conclusion\n",
    "\n",
    "Kadane's algorithm is a powerful and efficient solution to the Maximum Subarray Sum problem. Its simplicity and efficiency make it a popular choice among programmers for solving this classic problem."
   ]
  }
 ],
 "metadata": {
  "kernelspec": {
   "display_name": "Python 3 (ipykernel)",
   "language": "python",
   "name": "python3"
  },
  "language_info": {
   "codemirror_mode": {
    "name": "ipython",
    "version": 3
   },
   "file_extension": ".py",
   "mimetype": "text/x-python",
   "name": "python",
   "nbconvert_exporter": "python",
   "pygments_lexer": "ipython3",
   "version": "3.12.3"
  }
 },
 "nbformat": 4,
 "nbformat_minor": 5
}
