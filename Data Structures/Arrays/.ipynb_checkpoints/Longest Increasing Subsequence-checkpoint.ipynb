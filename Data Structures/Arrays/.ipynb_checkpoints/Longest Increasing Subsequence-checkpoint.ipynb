{
 "cells": [
  {
   "cell_type": "markdown",
   "id": "c9d9ebb6",
   "metadata": {},
   "source": [
    "# Longest Increasing Subsequence (LIS) Problem\n",
    "\n",
    "The Longest Increasing Subsequence (LIS) problem is a classic computer science problem that involves finding the length of the longest strictly increasing subsequence in a given array. A subsequence is a sequence that can be derived from another sequence by deleting some or no elements without changing the order of the remaining elements.\n",
    "\n",
    "This problem is significant in various applications, including bioinformatics, finance, and computer graphics. Solving it efficiently can help in optimizing algorithms and improving performance in real-world scenarios.\n",
    "\n",
    "In this notebook, we will explore a dynamic programming approach to solve the LIS problem. We will implement the solution in Python and analyze its performance.\n"
   ]
  },
  {
   "cell_type": "code",
   "execution_count": null,
   "id": "59257dc1-508a-4e9f-be69-397f34d50ac0",
   "metadata": {},
   "outputs": [],
   "source": [
    "def longest_increasing_subsequence(arr):\n",
    "    \n",
    "    if not arr:\n",
    "        return 0\n",
    "\n",
    "    n = len(arr)\n",
    "    dp = [1] * n \n",
    "\n",
    "    for i in range(1, n):\n",
    "        for j in range(i):\n",
    "            if arr[i] > arr[j]:\n",
    "                dp[i] = max(dp[i], dp[j] + 1)\n",
    "\n",
    "    return max(dp)\n",
    "\n",
    "# Example usage\n",
    "arr = [10, 22, 9, 33, 21, 50, 41, 60, 80]\n",
    "print(longest_increasing_subsequence(arr)) # Output: 6"
   ]
  },
  {
   "cell_type": "markdown",
   "id": "37f571e9-1d12-4046-b972-e18fd09cbde5",
   "metadata": {},
   "source": [
    "### Complexity\n",
    "- **Time Complexity:** **$O(n^2$)** due to the nested loop for comparisons where n is the length of the input array.\n",
    "- **Space Complexity:** **$O(n$)** for storinf dp array\n",
    "\n",
    "### Optimality and Completeness\n",
    "The algorithm is optimal in the sense that it finds the correct length of the longest increasing subsequence. However, it does not necessarily find the subsequence itself. If you need the subsequence, you would need to backtrack from the maximum value in the dp array to reconstruct the subsequence.\n",
    "\n",
    "The algorithm is complete because it considers all possible subsequences ending at each element and correctly updates the dp array to reflect the longest increasing subsequence found so far. It ensures that the final answer is the length of the longest increasing subsequence in the entire array."
   ]
  }
 ],
 "metadata": {
  "kernelspec": {
   "display_name": "Python 3 (ipykernel)",
   "language": "python",
   "name": "python3"
  },
  "language_info": {
   "codemirror_mode": {
    "name": "ipython",
    "version": 3
   },
   "file_extension": ".py",
   "mimetype": "text/x-python",
   "name": "python",
   "nbconvert_exporter": "python",
   "pygments_lexer": "ipython3",
   "version": "3.12.3"
  }
 },
 "nbformat": 4,
 "nbformat_minor": 5
}
