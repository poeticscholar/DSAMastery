{
 "cells": [
  {
   "cell_type": "markdown",
   "id": "8dd152a9-95fa-432d-987c-17daa94d9bd9",
   "metadata": {},
   "source": [
    "# Next Greater Element Problem\n",
    "\n",
    "The Next Greater Element problem involves finding, for each element in an array, the first element that is greater than it to its right. If there is no such element, the result for that element is $-1$.\n",
    "\n",
    "This problem is significant in various applications, including data analysis and algorithm optimization. Solving it efficiently can help in optimizing algorithms and improving performance in real-world scenarios.\n",
    "\n",
    "In this notebook, we will explore a stack-based approach to solve the Next Greater Element problem. We will implement the solution in Python and analyze its performance."
   ]
  },
  {
   "cell_type": "code",
   "execution_count": null,
   "id": "d5555b7e-06df-4b29-8f5d-b679f4688bcb",
   "metadata": {},
   "outputs": [],
   "source": [
    "def nextGreaterElement(nums):\n",
    "    # Step 1: Initialize a stack and a result list\n",
    "    stack = []\n",
    "    result = [-1] * len(nums) # Initialize result list with -1\n",
    "\n",
    "    # Step 2: Iterate through the array from right to left\n",
    "    for i in range(len(nums) - 1, -1, -1):\n",
    "        # Step 3: Use the stack to find the next greater element\n",
    "        while stack and stack[-1] <= nums[i]:\n",
    "            stack.pop()\n",
    "        if stack:\n",
    "            result[i] = stack[-1]\n",
    "        stack.append(nums[i])\n",
    "\n",
    "    # Step 4: Return the result list\n",
    "    return result\n",
    "\n",
    "# Example usage\n",
    "nums = [4, 1, 2]\n",
    "print(nextGreaterElement(nums)) # Output: [-1, 2, -1]"
   ]
  },
  {
   "cell_type": "markdown",
   "id": "41ff567e-9667-4da3-b0f4-a489c4d906a1",
   "metadata": {},
   "source": [
    "### Complexity\n",
    "\n",
    "- **Time Complexity:** $O(n)$ where $n$ is the length of the input array. This is because we perform a single pass through the array.\n",
    "- **Space Complexity:** $O(n)$ where $n$ is the length of the input array. This is because in the worst case, we might need to store all elements in the stack and the result list.\n",
    "\n",
    "### Optimality\n",
    "\n",
    "The algorithm is optimal in the sense that it finds the correct next greater element for each element in the array, or $-1$ if there is no such element. However, it does not necessarily find the sequence of elements leading to the next greater element. If you need the sequence, you would need to track the indices or elements leading to the next greater element.\n",
    "\n",
    "\n",
    "### Completeness\n",
    "The algorithm is complete because it considers all possible elements to the right of each element and correctly updates the result list to reflect the next greater element found so far. It ensures that the final answer is the next greater element for each element in the array, or $-1$ if there is no such element."
   ]
  }
 ],
 "metadata": {
  "kernelspec": {
   "display_name": "Python 3 (ipykernel)",
   "language": "python",
   "name": "python3"
  },
  "language_info": {
   "codemirror_mode": {
    "name": "ipython",
    "version": 3
   },
   "file_extension": ".py",
   "mimetype": "text/x-python",
   "name": "python",
   "nbconvert_exporter": "python",
   "pygments_lexer": "ipython3",
   "version": "3.12.3"
  }
 },
 "nbformat": 4,
 "nbformat_minor": 5
}
