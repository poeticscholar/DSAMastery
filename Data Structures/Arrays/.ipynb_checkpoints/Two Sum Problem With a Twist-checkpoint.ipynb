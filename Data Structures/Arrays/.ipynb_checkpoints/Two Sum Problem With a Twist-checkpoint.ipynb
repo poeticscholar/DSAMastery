{
 "cells": [
  {
   "cell_type": "markdown",
   "id": "f953e3e3-b4db-4dc8-a460-28c8f0313b6b",
   "metadata": {},
   "source": [
    "### Two Sum Problem With a Twist\n",
    "\n",
    "The **Two Sum** problem is a classic coding challenge that involves finding two numbers in an array that add up to a given target. The challenge is to return the indices of the two numbers, not the numbers themselves.\n",
    "\n",
    "### Problem Statement\n",
    "\n",
    "Given an array of integers and a target integer, find two indices such that the numbers at these indices add up to the target. The indices must be different, and the order of the indices does not matter.\n",
    "\n",
    "### Solution Approach\n",
    "\n",
    "The optimal solution to this problem involves using a hash map (or dictionary in Python) to store the numbers we've seen so far and their indices. For each number, we calculate its complement (the difference between the target and the current number). We then check if this complement is in the hash map. If it is, we've found the two numbers that add up to the target, and we return their indices. If the complement is not in the hash map, we add the current number and its index to the hash map.\n"
   ]
  },
  {
   "cell_type": "code",
   "execution_count": 1,
   "id": "4aa4d15e-4861-4aa9-a639-e859dcaf7ae4",
   "metadata": {},
   "outputs": [
    {
     "name": "stdout",
     "output_type": "stream",
     "text": [
      "[0, 1]\n"
     ]
    }
   ],
   "source": [
    "def twoSum(nums, target):\n",
    "    \n",
    "    # Initialize an empty hash map.\n",
    "    num_map = {}\n",
    "    \n",
    "    # Iterate through the array. For each numbe\n",
    "    for i, num in enumerate(nums):\n",
    "        complement = target - num\n",
    "        if complement in num_map:\n",
    "            return [num_map[complement], i] # Return the indices of the current number and the complement\n",
    "        num_map[num] = i  # add the current number and its index to the hash map.\n",
    "    return []\n",
    "\n",
    "# Test the function\n",
    "nums = [2, 7, 11, 15]\n",
    "target = 9\n",
    "print(twoSum(nums, target)) # Output: [0, 1]"
   ]
  },
  {
   "cell_type": "markdown",
   "id": "3d675417-e6bd-489b-b21b-62df270d2794",
   "metadata": {},
   "source": [
    "### Complexity\n",
    "\n",
    "- **Time Complexity:** $O(n)$ because it performs a single pass through the array.\n",
    "- **Space Complexity:** $O(n)$ as in the worst case, we might need to store all elements in the hash map.\n",
    "\n",
    "### Optimality and Correctness\n",
    "\n",
    "- The solution is **optimal** in terms of time complexity because it requires a single pass through the array. No other algorithm can solve this problem in less than $O(n)$ time.\n",
    "- The solution is **correct** because it correctly identifies the two numbers that add up to the target. It uses a hash map to efficiently check for the existence of a complement for each number, ensuring that the solution is found in a single pass through the array."
   ]
  },
  {
   "cell_type": "code",
   "execution_count": null,
   "id": "79c72bfd-471e-48b6-a1e8-27fcbad2f6d8",
   "metadata": {},
   "outputs": [],
   "source": []
  }
 ],
 "metadata": {
  "kernelspec": {
   "display_name": "Python 3 (ipykernel)",
   "language": "python",
   "name": "python3"
  },
  "language_info": {
   "codemirror_mode": {
    "name": "ipython",
    "version": 3
   },
   "file_extension": ".py",
   "mimetype": "text/x-python",
   "name": "python",
   "nbconvert_exporter": "python",
   "pygments_lexer": "ipython3",
   "version": "3.12.3"
  }
 },
 "nbformat": 4,
 "nbformat_minor": 5
}
