{
 "cells": [
  {
   "cell_type": "markdown",
   "id": "3171ec57-7a4f-4797-96d1-c66bb36af729",
   "metadata": {
    "jp-MarkdownHeadingCollapsed": true
   },
   "source": [
    "### Finding the Longest Subarray with Equal Sum\n",
    "\n",
    "In many computational problems, we often need to identify subarrays (contiguous segments of an array) that meet specific criteria. One such problem is finding the longest subarray within a given array that has the same sum as the original array. This problem is particularly interesting because it involves dynamic programming and sliding window techniques, which are powerful strategies for solving array-based problems efficiently.\n",
    "\n",
    "To solve this problem, we can use a **sliding window** approach. The idea is to maintain a window of elements that add up to the sum of the entire array. We iterate through the array, expanding the window by adding the current element to the sum and shrinking the window by removing elements from the beginning until the sum is equal to the target sum or less. We keep track of the maximum length of such a window encountered during the iteration.\n"
   ]
  },
  {
   "cell_type": "code",
   "execution_count": null,
   "id": "25ee758a-4c60-46b7-8b63-24510e0e0f2f",
   "metadata": {},
   "outputs": [],
   "source": [
    "def longest_subarray_with_same_sum(arr):\n",
    "    # Step 1: Calculate the sum of the original array\n",
    "    total_sum = sum(arr)\n",
    "    \n",
    "    # Step 2: Initialize variables\n",
    "    max_length = 0\n",
    "    current_sum = 0\n",
    "    start = 0\n",
    "    \n",
    "    # Step 3: Iterate through the array\n",
    "    for end in range(len(arr)):\n",
    "        current_sum += arr[end]\n",
    "        \n",
    "        while current_sum > total_sum:\n",
    "            current_sum -= arr[start]\n",
    "            start += 1\n",
    "        \n",
    "        if current_sum == total_sum:\n",
    "            max_length = max(max_length, end - start + 1)\n",
    "    \n",
    "    # Step 4: Return the result\n",
    "    return max_length\n",
    "    \n",
    "# Test the Solution\n",
    "print(longest_subarray_with_same_sum([1, 2, 3, 4, 5])) # Output: 5 (The entire array has the same sum)\n",
    "print(longest_subarray_with_same_sum([1, 2, 3, -6, 5])) # Output: 3 (The subarray [1, 2, 3] has the same sum)"
   ]
  },
  {
   "cell_type": "markdown",
   "id": "0828d286-e735-44f1-b29e-400eeb5c9bf3",
   "metadata": {},
   "source": [
    "\n",
    "### Complexity\n",
    "\n",
    "- **Time complexity:** $O(n)$, because it iterates through the array once, performing constant-time operations within the loop.\n",
    "- **Space complexity:** $O(1)$, as it uses a fixed amount of space to store the variables, regardless of the input size.\n",
    "\n",
    "### Optimality\n",
    "\n",
    "- The function is **optimal** in terms of time complexity for this problem, as it must inspect each element at least once to determine if it's part of a subarray with the same sum as the original array.\n",
    "\n",
    "### Completeness and Correctness\n",
    "\n",
    "- The function is **complete**, and **correct** as it accurately identifies the longest subarray with the same sum as the original array. It handles cases where the entire array has the same sum and cases where no such subarray exists (in which case it would return $0$)."
   ]
  }
 ],
 "metadata": {
  "kernelspec": {
   "display_name": "Python 3 (ipykernel)",
   "language": "python",
   "name": "python3"
  },
  "language_info": {
   "codemirror_mode": {
    "name": "ipython",
    "version": 3
   },
   "file_extension": ".py",
   "mimetype": "text/x-python",
   "name": "python",
   "nbconvert_exporter": "python",
   "pygments_lexer": "ipython3",
   "version": "3.12.3"
  }
 },
 "nbformat": 4,
 "nbformat_minor": 5
}
