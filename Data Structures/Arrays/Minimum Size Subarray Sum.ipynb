{
 "cells": [
  {
   "cell_type": "markdown",
   "id": "32058127-61e1-4290-8752-e343af05c606",
   "metadata": {},
   "source": [
    "### Minimum Size Subarray Sum Problem\n",
    "\n",
    "The goal is to find the smallest possible length of a subarray (a sequence of consecutive elements in the array) that has a sum greater than or equal to a given number $s$. If no such subarray exists, you should return $0$. There are 2 approaches to solve this problem:\n",
    "\n",
    "- **Brute Force:** The simplest approach is to check every possible subarray, but this is inefficient ($O(n^2)$ time complexity).\n",
    "- **Sliding Window:** It is more efficient, solving the problem in $O(n)$ time complexity.\n",
    "\n",
    "**Sliding Window** approach involves maintaining a running sum (current_sum) and a start index (start) that defines the current subarray being considered. The algorithm iterates through the array, expanding the subarray by adding elements to the end (end) and shrinking it from the start if the current sum is greater than or equal to s.\n",
    "\n"
   ]
  },
  {
   "cell_type": "code",
   "execution_count": 1,
   "id": "594fc3e2-b628-44cc-91fb-41115debaca4",
   "metadata": {},
   "outputs": [
    {
     "name": "stdout",
     "output_type": "stream",
     "text": [
      "2\n",
      "1\n",
      "0\n"
     ]
    }
   ],
   "source": [
    "def minSubArrayLen(nums, s):\n",
    "    min_length = float('inf')\n",
    "    current_sum = 0\n",
    "    start = 0\n",
    "\n",
    "    # Iterate through the array with end index\n",
    "    for end in range(len(nums)):\n",
    "        # Add the current element to the current sum\n",
    "        current_sum += nums[end]\n",
    "        # While the current sum is greater than or equal to s\n",
    "        while current_sum >= s:\n",
    "            # Update min_length if the current subarray length is smaller\n",
    "            min_length = min(min_length, end - start + 1)\n",
    "            # Subtract the element at the start index from the current sum\n",
    "            current_sum -= nums[start]\n",
    "            # Increment the start index to shrink the subarray\n",
    "            start += 1\n",
    "\n",
    "    # Return min_length if it's not infinity, else return 0\n",
    "    return min_length if min_length != float('inf') else 0\n",
    "    \n",
    "# Test the Solution with various inputs to ensure the solution works as expected\n",
    "print(minSubArrayLen([2, 3, 1, 2, 4, 3], 7)) # Output: 2 (Subarray [4,3] has a sum of 7)\n",
    "print(minSubArrayLen([1, 4, 4], 4)) # Output: 1 (Subarray [4] has a sum of 4)\n",
    "print(minSubArrayLen([1, 1, 1, 1, 1, 1, 1, 1], 11)) # Output: 0 (No subarray with sum >= 11)"
   ]
  },
  {
   "cell_type": "code",
   "execution_count": null,
   "id": "3d2782d1-0921-4e72-9e49-7a4bc93a6ce9",
   "metadata": {},
   "outputs": [],
   "source": []
  }
 ],
 "metadata": {
  "kernelspec": {
   "display_name": "Python 3 (ipykernel)",
   "language": "python",
   "name": "python3"
  },
  "language_info": {
   "codemirror_mode": {
    "name": "ipython",
    "version": 3
   },
   "file_extension": ".py",
   "mimetype": "text/x-python",
   "name": "python",
   "nbconvert_exporter": "python",
   "pygments_lexer": "ipython3",
   "version": "3.12.3"
  }
 },
 "nbformat": 4,
 "nbformat_minor": 5
}
